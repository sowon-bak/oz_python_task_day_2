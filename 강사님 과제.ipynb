{
 "cells": [
  {
   "cell_type": "code",
   "execution_count": null,
   "id": "a29559b2",
   "metadata": {},
   "outputs": [
    {
     "name": "stdout",
     "output_type": "stream",
     "text": [
      "50 Down!\n",
      "25 Down!\n",
      "12 Up!\n",
      "20 정답입니다!\n",
      "B 등급!\n"
     ]
    }
   ],
   "source": [
    "import random\n",
    "\n",
    "answer = random.randint(1,100)\n",
    "count = 0\n",
    "\n",
    "while True :\n",
    "    input_number = int(input(\"1~100까지 숫자 중 정답은?\"))\n",
    "    if answer > input_number :\n",
    "        print(f'{input_number} Up!')\n",
    "        count += 1\n",
    "    elif answer < input_number :\n",
    "        print(f'{input_number} Down!')\n",
    "        count += 1\n",
    "    else :\n",
    "        print(f'{input_number} 정답입니다!')\n",
    "        if count < 1 :\n",
    "            print(\"S 등급!\")\n",
    "        elif count < 3 :\n",
    "            print(\"A 등급!\")\n",
    "        elif count < 6 :\n",
    "            print(\"B 등급!\")\n",
    "        elif count < 10 :\n",
    "            print(\"C 등급!\")\n",
    "        elif count < 15 :\n",
    "            print(\"D 등급!\")\n",
    "        elif count < 21 :\n",
    "            print(\"E 등급!\")\n",
    "        else :\n",
    "            print(\"F 등급!\")\n",
    "        break\n"
   ]
  }
 ],
 "metadata": {
  "kernelspec": {
   "display_name": "Python 3",
   "language": "python",
   "name": "python3"
  },
  "language_info": {
   "codemirror_mode": {
    "name": "ipython",
    "version": 3
   },
   "file_extension": ".py",
   "mimetype": "text/x-python",
   "name": "python",
   "nbconvert_exporter": "python",
   "pygments_lexer": "ipython3",
   "version": "3.9.6"
  }
 },
 "nbformat": 4,
 "nbformat_minor": 5
}
