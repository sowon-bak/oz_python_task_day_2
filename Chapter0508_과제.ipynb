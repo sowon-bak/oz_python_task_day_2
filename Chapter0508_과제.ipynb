{
 "cells": [
  {
   "cell_type": "markdown",
   "metadata": {
    "id": "WXEwMsfUct7U"
   },
   "source": [
    "안녕하세요.<br><br>\n",
    "수강생 여러분~! Chapter05 ~ 08 수업은 잘 들으셨나요?\n",
    "\n",
    "Chapter05 ~ 08의 수업 내용을 바탕으로 아래 문제를 풀어주시면 됩니다.\n",
    "\n",
    "<br>\n",
    "\n",
    "\n",
    "[**답변 입력 방법**]\n",
    "\n",
    "문제 아래에 있는 코드 입력창에 정답코드를 작성하신 후  __▷ 버튼을 클릭해 코드를 실행__ 해보세요<br>"
   ]
  },
  {
   "cell_type": "markdown",
   "metadata": {
    "id": "qoyC9wF-3hvs"
   },
   "source": [
    "-----"
   ]
  },
  {
   "cell_type": "markdown",
   "metadata": {},
   "source": [
    "## 모험가들의 레벨업 도전\n",
    "\n",
    "### [배경 이야기]\n",
    "\n",
    "당신은 마법사, 전사, 도적, 힐러 네 명의 모험가를 이끄는 리더입니다. \n",
    "\n",
    "각 캐릭터는 힘, 민첩, 지능, 체력이라는 능력치를 가지고 있습니다. 이 능력치들을 이용해 다양한 도전을 해결하고 사냥을 통해 경험치를 얻어 레벨업을 해야 합니다.\n",
    "\n",
    "<br>\n",
    "\n",
    "### [동료 캐릭터와 능력치 정보]\n",
    "\n",
    "마법사: 힘(10), 민첩(20), 지능(80), 체력(50)\n",
    "\n",
    "전사: 힘(80), 민첩(30), 지능(20), 체력(100)\n",
    "\n",
    "도적: 힘(40), 민첩(80), 지능(30), 체력(60)\n",
    "\n",
    "힐러: 힘(20), 민첩(40), 지능(70), 체력(70)\n",
    "\n",
    "<br>\n",
    "\n",
    "* 변수명을 영어로 변경해서 풀어보세요 !"
   ]
  },
  {
   "cell_type": "markdown",
   "metadata": {},
   "source": [
    "<br>\n",
    "\n",
    "__[문제 1: 첫 번째 사냥]__\n",
    "\n",
    "마법사는 몬스터를 사냥하기 위해 마법을 사용합니다. \n",
    "\n",
    "마법을 사용하려면 지능이 50 이상이어야 합니다. \n",
    "\n",
    "마법사의 지능이 50 이상인지 확인하세요."
   ]
  },
  {
   "cell_type": "code",
   "execution_count": 26,
   "metadata": {},
   "outputs": [
    {
     "name": "stdout",
     "output_type": "stream",
     "text": [
      "마법사의 지능은 50 이상입니다.\n"
     ]
    }
   ],
   "source": [
    "stat = [ \"힘\" , \"민첩\" , \"지능\" , \"체력\" ]\n",
    "wizard = [ 10 , 20 , 80 ,50 ]\n",
    "magic_repuire = [ \"지능\" , 50 ]\n",
    "\n",
    "use_magic = wizard[stat.index(magic_repuire[0])] >= magic_repuire[1]\n",
    "\n",
    "if use_magic == True :\n",
    "    print(\"마법사의 지능은 50 이상입니다.\")\n",
    "else :\n",
    "    print(\"마법사의 지능은 50 미만입니다.\")\n"
   ]
  },
  {
   "cell_type": "markdown",
   "metadata": {},
   "source": [
    "<br>\n",
    "\n",
    "__[문제 2: 두 번째 사냥]__\n",
    "\n",
    "전사는 강력한 공격을 하기 위해 자신의 힘을 사용합니다. \n",
    "\n",
    "전사의 힘이 60 이상이고 체력이 80 이상인지 확인하세요."
   ]
  },
  {
   "cell_type": "code",
   "execution_count": 25,
   "metadata": {},
   "outputs": [
    {
     "name": "stdout",
     "output_type": "stream",
     "text": [
      "전사의 힘이 60 이상이고 체력은 80 이상입니다.\n"
     ]
    }
   ],
   "source": [
    "warrior = [ 80 , 30 , 20 , 100 ]\n",
    "smash_require = [ \"힘\" , 60 , \"체력\" , 80]\n",
    "\n",
    "use_smash = warrior[stat.index(smash_require[0])] >= smash_require[1] and warrior[stat.index(smash_require[2])] >= smash_require[3]\n",
    "\n",
    "if use_smash == True :\n",
    "    print(\"전사의 힘이 60 이상이고 체력은 80 이상입니다.\")\n",
    "else :\n",
    "    print(\"전사의 힘이 60 미만이거나 체력이 80 미만입니다.\")\n"
   ]
  },
  {
   "cell_type": "markdown",
   "metadata": {},
   "source": [
    "<br>\n",
    "\n",
    "__[문제 3: 세 번째 사냥]__\n",
    "\n",
    "도적은 민첩함을 이용해 몬스터를 회피하고 공격합니다. \n",
    "\n",
    "도적의 민첩이 70 이상이거나 힘이 50 이상인지 확인하세요."
   ]
  },
  {
   "cell_type": "code",
   "execution_count": null,
   "metadata": {},
   "outputs": [
    {
     "name": "stdout",
     "output_type": "stream",
     "text": [
      "도적의 민첩이 70 이상이거나 힘이 50 이상입니다.\n"
     ]
    }
   ],
   "source": [
    "theif = [ 40 , 80 , 30 , 60 ]\n",
    "avoid_attack_require = [ \"민첩\" , 70 , \"힘\" , 50 ]\n",
    "\n",
    "use_avoid_attack = theif[stat.index(avoid_attack_require[0])] >= avoid_attack_require[1] or theif[stat.index(avoid_attack_require[2])] >= avoid_attack_require[3]\n",
    "\n",
    "if use_avoid_attack == True :\n",
    "    print(\"도적의 민첩이 70 이상이거나 힘이 50 이상입니다.\")\n",
    "else :\n",
    "    print(\"도적의 민첩이 70 미만이고 힘이 50 미만입니다.\")\n"
   ]
  },
  {
   "cell_type": "markdown",
   "metadata": {},
   "source": [
    "<br>\n",
    "\n",
    "__[문제 4: 네 번째 사냥]__\n",
    "\n",
    "힐러는 파티의 체력을 회복시키기 위해 마법을 사용합니다. \n",
    "\n",
    "힐러의 지능이 60 이상이고, 체력이 50 이상인지 확인하세요."
   ]
  },
  {
   "cell_type": "code",
   "execution_count": 28,
   "metadata": {},
   "outputs": [
    {
     "name": "stdout",
     "output_type": "stream",
     "text": [
      "힐러의 지능이 60 이상이고 체력이 50 이상입니다.\n"
     ]
    }
   ],
   "source": [
    "healer = [ 20 , 40 , 70 , 70 ]\n",
    "healing_require = [ \"지능\" , 60 , \"체력\" , 50 ]\n",
    "\n",
    "use_healing = healer[stat.index(healing_require[0])] >= healing_require[1] and healer[stat.index(healing_require[2])] >= healing_require[3]\n",
    "\n",
    "if use_healing == True :\n",
    "    print(\"힐러의 지능이 60 이상이고 체력이 50 이상입니다.\")\n",
    "else :\n",
    "    print(\"힐러의 지능이 60 미만이거나 체력이 50 미만입니다.\")\n",
    "    "
   ]
  },
  {
   "cell_type": "markdown",
   "metadata": {},
   "source": [
    "<br>\n",
    "\n",
    "__[문제 5: 레벨업]__\n",
    "\n",
    "모든 캐릭터가 사냥을 성공적으로 마쳤습니다. 이제 경험치를 얻어 레벨업을 해야 합니다. \n",
    "\n",
    "\n",
    "각 캐릭터의 경험치가 100 이상인지 print()를 이용해 확인해주세요.\n",
    "\n",
    "<br>\n",
    "\n",
    "경험치는 아래와 같습니다.\n",
    "\n",
    "마법사: 120\n",
    "\n",
    "전사: 150\n",
    "\n",
    "도적: 110\n",
    "\n",
    "힐러: 90\n",
    "\n"
   ]
  },
  {
   "cell_type": "code",
   "execution_count": 37,
   "metadata": {},
   "outputs": [
    {
     "name": "stdout",
     "output_type": "stream",
     "text": [
      "마법사 는 레벨업을 할 수 있습니다.\n",
      "전사 는 레벨업을 할 수 있습니다.\n",
      "도적 은 레벨업을 할 수 있습니다.\n",
      "힐러 는 레벨업을 할 수 없습니다.\n"
     ]
    }
   ],
   "source": [
    "party_member = [ \"마법사\" , \"전사\" , \"도적\" , \"힐러\" ]\n",
    "party_exp = [ 120 , 150 , 110 , 90 ]\n",
    "\n",
    "level_up_0 = party_exp[party_member.index(party_member[0])] >= 100\n",
    "level_up_1 = party_exp[party_member.index(party_member[1])] >= 100\n",
    "level_up_2 = party_exp[party_member.index(party_member[2])] >= 100\n",
    "level_up_3 = party_exp[party_member.index(party_member[3])] >= 100\n",
    "\n",
    "if level_up_0 == True :\n",
    "    print(party_member[0] , \"는 레벨업을 할 수 있습니다.\")\n",
    "else :\n",
    "    print(party_member[0] , \"는 레벨업을 할 수 없습니다.\")\n",
    "\n",
    "if level_up_1 == True :\n",
    "    print(party_member[1] , \"는 레벨업을 할 수 있습니다.\")\n",
    "else :\n",
    "    print(party_member[1] , \"는 레벨업을 할 수 없습니다.\")\n",
    "\n",
    "if level_up_2 == True :\n",
    "    print(party_member[2] , \"은 레벨업을 할 수 있습니다.\")\n",
    "else :\n",
    "    print(party_member[2] , \"은 레벨업을 할 수 없습니다.\")\n",
    "\n",
    "if level_up_3 == True :\n",
    "    print(party_member[3] , \"는 레벨업을 할 수 있습니다.\")\n",
    "else :\n",
    "    print(party_member[3] , \"는 레벨업을 할 수 없습니다.\")\n",
    "    \n"
   ]
  }
 ],
 "metadata": {
  "colab": {
   "authorship_tag": "ABX9TyP7YKA5FdtGggYfD74V7SMJ",
   "provenance": []
  },
  "kernelspec": {
   "display_name": "Python 3",
   "name": "python3"
  },
  "language_info": {
   "codemirror_mode": {
    "name": "ipython",
    "version": 3
   },
   "file_extension": ".py",
   "mimetype": "text/x-python",
   "name": "python",
   "nbconvert_exporter": "python",
   "pygments_lexer": "ipython3",
   "version": "3.9.6"
  }
 },
 "nbformat": 4,
 "nbformat_minor": 0
}
